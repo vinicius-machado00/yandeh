{
 "cells": [
  {
   "cell_type": "code",
   "execution_count": 5,
   "metadata": {},
   "outputs": [],
   "source": [
    "#Bibliotecas necessárias p/ Projeto\n",
    "import pandas as pd\n",
    "from pyspark.sql import SparkSession\n",
    "from pyspark.sql import functions as F"
   ]
  },
  {
   "cell_type": "code",
   "execution_count": 6,
   "metadata": {},
   "outputs": [],
   "source": [
    "spark = SparkSession.builder.appName('Yandeh_Project').getOrCreate()"
   ]
  },
  {
   "cell_type": "code",
   "execution_count": 2,
   "metadata": {},
   "outputs": [],
   "source": [
    "#Lendo arquivos CSV e salvando o Dataframe usando Pandas\n",
    "pd_cotacao_preco = pd.read_csv('cotacao_precos.csv',encoding='latin1',sep=';')\n",
    "pd_espec_componentes = pd.read_csv('espec_componentes.csv',encoding='latin1',sep=';')\n",
    "pd_lista_materiais = pd.read_csv('lista_materiais.csv',encoding='latin1',sep=';')"
   ]
  },
  {
   "cell_type": "code",
   "execution_count": 17,
   "metadata": {
    "scrolled": false
   },
   "outputs": [],
   "source": [
    "#Usando Spark\n",
    "df_cotacao_preco = spark.read.option(\"sep\",\";\").option(\"header\",True).option(\"encoding\",\"latin1\").csv('cotacao_precos.csv')\n",
    "df_espec_componentes = spark.read.option(\"sep\",\";\").option(\"header\",True).option(\"encoding\",\"latin1\").csv('espec_componentes.csv')\n",
    "df_lista_materiais = spark.read.option(\"sep\",\";\").option(\"header\",True).option(\"encoding\",\"latin1\").csv('lista_materiais.csv')"
   ]
  },
  {
   "cell_type": "code",
   "execution_count": 22,
   "metadata": {},
   "outputs": [],
   "source": [
    "#Trabalhando com o arquivo Cotação_Preço"
   ]
  },
  {
   "cell_type": "code",
   "execution_count": 18,
   "metadata": {},
   "outputs": [
    {
     "name": "stdout",
     "output_type": "stream",
     "text": [
      "root\n",
      " |-- bico_injetor_id: string (nullable = true)\n",
      " |-- fornecedor: string (nullable = true)\n",
      " |-- data_cotacao: string (nullable = true)\n",
      " |-- uso_anual: string (nullable = true)\n",
      " |-- qtde_min_pedido: string (nullable = true)\n",
      " |-- desconto_qtde: string (nullable = true)\n",
      " |-- quanitdade: string (nullable = true)\n",
      " |-- custo: string (nullable = true)\n",
      "\n"
     ]
    }
   ],
   "source": [
    "df_cotacao_preco.printSchema()"
   ]
  },
  {
   "cell_type": "code",
   "execution_count": 27,
   "metadata": {},
   "outputs": [
    {
     "name": "stdout",
     "output_type": "stream",
     "text": [
      "+---------------+----------+------------+---------+---------------+-------------+----------+----------------+\n",
      "|bico_injetor_id|fornecedor|data_cotacao|uso_anual|qtde_min_pedido|desconto_qtde|quanitdade|custo           |\n",
      "+---------------+----------+------------+---------+---------------+-------------+----------+----------------+\n",
      "|BI-00002       |F-0066    |2013-07-07  |0        |0              |Sim          |1         |21.9059330191461|\n",
      "|BI-00002       |F-0066    |2013-07-07  |0        |0              |Sim          |2         |12.3412139792904|\n",
      "|BI-00002       |F-0066    |2013-07-07  |0        |0              |Sim          |5         |6.60182614356538|\n",
      "|BI-00002       |F-0066    |2013-07-07  |0        |0              |Sim          |10        |4.6877695119712 |\n",
      "|BI-00002       |F-0066    |2013-07-07  |0        |0              |Sim          |25        |3.54156118026073|\n",
      "|BI-00002       |F-0066    |2013-07-07  |0        |0              |Sim          |50        |3.22440644770007|\n",
      "|BI-00002       |F-0066    |2013-07-07  |0        |0              |Sim          |100       |3.08252143576504|\n",
      "|BI-00002       |F-0066    |2013-07-07  |0        |0              |Sim          |250       |2.99905966403855|\n",
      "|BI-00004       |F-0066    |2013-07-07  |0        |0              |Sim          |1         |21.9727024365273|\n",
      "|BI-00004       |F-0066    |2013-07-07  |0        |0              |Sim          |2         |12.4079833966715|\n",
      "|BI-00004       |F-0066    |2013-07-07  |0        |0              |Sim          |5         |6.66859556094657|\n",
      "|BI-00004       |F-0066    |2013-07-07  |0        |0              |Sim          |10        |4.75453892935239|\n",
      "|BI-00004       |F-0066    |2013-07-07  |0        |0              |Sim          |25        |3.60833059764193|\n",
      "|BI-00004       |F-0066    |2013-07-07  |0        |0              |Sim          |50        |3.29117586508126|\n",
      "|BI-00004       |F-0066    |2013-07-07  |0        |0              |Sim          |100       |3.14929085314623|\n",
      "|BI-00004       |F-0066    |2013-07-07  |0        |0              |Sim          |250       |3.06582908141974|\n",
      "|BI-00005       |F-0066    |2013-09-01  |0        |0              |Sim          |1         |28.3742203279491|\n",
      "|BI-00005       |F-0066    |2013-09-01  |0        |0              |Sim          |2         |16.5143025656149|\n",
      "|BI-00005       |F-0066    |2013-09-01  |0        |0              |Sim          |5         |9.3977954964028 |\n",
      "|BI-00005       |F-0066    |2013-09-01  |0        |0              |Sim          |10        |7.02748117937048|\n",
      "+---------------+----------+------------+---------+---------------+-------------+----------+----------------+\n",
      "only showing top 20 rows\n",
      "\n"
     ]
    }
   ],
   "source": [
    "df_cotacao_preco.show(20,False)"
   ]
  },
  {
   "cell_type": "code",
   "execution_count": 19,
   "metadata": {},
   "outputs": [
    {
     "name": "stdout",
     "output_type": "stream",
     "text": [
      "root\n",
      " |-- bico_injetor_id: string (nullable = true)\n",
      " |-- componente_id_1: string (nullable = true)\n",
      " |-- quantidade_1: string (nullable = true)\n",
      " |-- componente_id_2: string (nullable = true)\n",
      " |-- quantidade_2: string (nullable = true)\n",
      " |-- componente_id_3: string (nullable = true)\n",
      " |-- quantidade_3: string (nullable = true)\n",
      " |-- componente_id_4: string (nullable = true)\n",
      " |-- quantidade_4: string (nullable = true)\n",
      " |-- componente_id_5: string (nullable = true)\n",
      " |-- quantidade_5: string (nullable = true)\n",
      " |-- componente_id_6: string (nullable = true)\n",
      " |-- quantidade_6: string (nullable = true)\n",
      " |-- componente_id_7: string (nullable = true)\n",
      " |-- quantidade_7: string (nullable = true)\n",
      " |-- componente_id_8: string (nullable = true)\n",
      " |-- quantidade_8: string (nullable = true)\n",
      "\n"
     ]
    }
   ],
   "source": [
    "df_lista_materiais.printSchema()"
   ]
  },
  {
   "cell_type": "code",
   "execution_count": 34,
   "metadata": {},
   "outputs": [
    {
     "name": "stdout",
     "output_type": "stream",
     "text": [
      "+---------------+\n",
      "|bico_injetor_id|\n",
      "+---------------+\n",
      "|       BI-00001|\n",
      "|       BI-00002|\n",
      "|       BI-00003|\n",
      "|       BI-00004|\n",
      "|       BI-00005|\n",
      "|       BI-00006|\n",
      "|       BI-00007|\n",
      "|       BI-00008|\n",
      "|       BI-00009|\n",
      "|       BI-00010|\n",
      "|       BI-00011|\n",
      "|       BI-00012|\n",
      "|       BI-00013|\n",
      "|       BI-00014|\n",
      "|       BI-00015|\n",
      "|       BI-00016|\n",
      "|       BI-00017|\n",
      "|       BI-00018|\n",
      "|       BI-00019|\n",
      "|       BI-00020|\n",
      "+---------------+\n",
      "only showing top 20 rows\n",
      "\n"
     ]
    }
   ],
   "source": [
    "df_lista_materiais.select('bico_injetor_id').show()"
   ]
  },
  {
   "cell_type": "code",
   "execution_count": 21,
   "metadata": {},
   "outputs": [
    {
     "name": "stdout",
     "output_type": "stream",
     "text": [
      "root\n",
      " |-- componente_id: string (nullable = true)\n",
      " |-- componente_tipo_id: string (nullable = true)\n",
      " |-- tipo: string (nullable = true)\n",
      " |-- conexao_tipo_id: string (nullable = true)\n",
      " |-- forma: string (nullable = true)\n",
      " |-- tipo_base: string (nullable = true)\n",
      " |-- distancia_base: string (nullable = true)\n",
      " |-- compr_padrao_parafuso: string (nullable = true)\n",
      " |-- larg_padrao_parafuso: string (nullable = true)\n",
      " |-- sulco: string (nullable = true)\n",
      " |-- diametro_base: string (nullable = true)\n",
      " |-- diametro_borda: string (nullable = true)\n",
      " |-- especificidade: string (nullable = true)\n",
      " |-- orientatacao: string (nullable = true)\n",
      " |-- peso: string (nullable = true)\n",
      "\n"
     ]
    }
   ],
   "source": [
    "df_espec_componentes.printSchema()"
   ]
  },
  {
   "cell_type": "code",
   "execution_count": null,
   "metadata": {},
   "outputs": [],
   "source": []
  }
 ],
 "metadata": {
  "kernelspec": {
   "display_name": "Python 3",
   "language": "python",
   "name": "python3"
  },
  "language_info": {
   "codemirror_mode": {
    "name": "ipython",
    "version": 3
   },
   "file_extension": ".py",
   "mimetype": "text/x-python",
   "name": "python",
   "nbconvert_exporter": "python",
   "pygments_lexer": "ipython3",
   "version": "3.6.5"
  }
 },
 "nbformat": 4,
 "nbformat_minor": 2
}
