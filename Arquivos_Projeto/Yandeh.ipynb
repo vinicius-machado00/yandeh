{
 "cells": [
  {
   "cell_type": "code",
   "execution_count": 1,
   "metadata": {},
   "outputs": [],
   "source": [
    "#Bibliotecas necessárias p/ Projeto\n",
    "import pandas as pd\n",
    "from pyspark.sql import SparkSession\n",
    "from pyspark.sql import functions as F\n",
    "from pyspark.sql.functions import col, regexp_replace, UserDefinedFunction\n",
    "from pyspark.sql.types import ByteType,DataType,FloatType,IntegerType,StructType,StructField\n",
    "import sqlalchemy\n"
   ]
  },
  {
   "cell_type": "code",
   "execution_count": 2,
   "metadata": {},
   "outputs": [],
   "source": [
    "spark = SparkSession.builder.appName('Yandeh_Project').getOrCreate()"
   ]
  },
  {
   "cell_type": "code",
   "execution_count": 3,
   "metadata": {},
   "outputs": [],
   "source": [
    "#Lendo arquivos CSV e salvando o Dataframe usando Pandas\n",
    "pd_cotacao_preco = pd.read_csv('cotacao_precos.csv',encoding='latin1',sep=';')\n",
    "pd_espec_componentes = pd.read_csv('espec_componentes.csv',encoding='latin1',sep=';')\n",
    "pd_lista_materiais = pd.read_csv('lista_materiais.csv',encoding='latin1',sep=';')"
   ]
  },
  {
   "cell_type": "code",
   "execution_count": 4,
   "metadata": {
    "scrolled": false
   },
   "outputs": [],
   "source": [
    "#Usando Spark\n",
    "#cotacao_preco_schema = Struc\n",
    "df_cotacao_preco = spark.read.option(\"sep\",\";\").option(\"header\",True).option(\"encoding\",\"latin1\").csv('cotacao_precos.csv')\n",
    "df_espec_componentes = spark.read.option(\"sep\",\";\").option(\"header\",True).option(\"encoding\",\"latin1\").csv('espec_componentes.csv')\n",
    "df_lista_materiais = spark.read.option(\"sep\",\";\").option(\"header\",True).option(\"encoding\",\"latin1\").csv('lista_materiais.csv')"
   ]
  },
  {
   "cell_type": "markdown",
   "metadata": {},
   "source": [
    "<h1> Tabela <b>Cotação_Preço </b> </h1> "
   ]
  },
  {
   "cell_type": "code",
   "execution_count": 15,
   "metadata": {},
   "outputs": [],
   "source": [
    "#Tratando tipo das Colunas\n",
    "df_cotacao_preco_tratado = df_cotacao_preco.withColumn('bico_injetor_id',F.col('bico_injetor_id').cast('string')).withColumn('data_cotacao',col('data_cotacao').cast('date')).withColumn('uso_anual',col('uso_anual').cast('int')).withColumn('qtde_min_pedido',col('qtde_min_pedido').cast('int')).withColumn('desconto_qtde',F.when(df_cotacao_preco['desconto_qtde']==\"Sim\",1).otherwise(0)).withColumnRenamed('quanitdade','quantidade').withColumn('quantidade',F.col('quantidade').cast('int')).withColumn('custo',F.col('custo').cast('float'))\n",
    "df_cotacao_preco_tratado = df_cotacao_preco_tratado.withColumn('desconto_qtde',F.col('desconto_qtde').cast('int'))"
   ]
  },
  {
   "cell_type": "markdown",
   "metadata": {},
   "source": [
    "<h1> Tabela <b>Lista Materias</b> </h1>"
   ]
  },
  {
   "cell_type": "code",
   "execution_count": 7,
   "metadata": {},
   "outputs": [],
   "source": [
    "#Tratando tipo das Colunas\n",
    "df_lista_materiais_tratado = df_lista_materiais.withColumn('bico_injetor_id',F.col('bico_injetor_id').cast('string')).withColumn('componente_id_1',F.col('componente_id_1').cast('string')).withColumn('componente_id_2',F.col('componente_id_2').cast('string')).withColumn('componente_id_3',F.col('componente_id_3').cast('string')).withColumn('componente_id_4',F.col('componente_id_4').cast('string')).withColumn('componente_id_5',F.col('componente_id_5').cast('string')).withColumn('componente_id_6',F.col('componente_id_6').cast('string')).withColumn('componente_id_7',F.col('componente_id_7').cast('string')).withColumn('componente_id_8',F.col('componente_id_8').cast('string')).withColumn('quantidade_1',F.col('quantidade_1').cast('int')).withColumn('quantidade_2',F.col('quantidade_2').cast('int')).withColumn('quantidade_3',F.col('quantidade_3').cast('int')).withColumn('quantidade_4',F.col('quantidade_4').cast('int')).withColumn('quantidade_5',F.col('quantidade_5').cast('int')).withColumn('quantidade_6',F.col('quantidade_6').cast('int')).withColumn('quantidade_7',F.col('quantidade_7').cast('int')).withColumn('quantidade_8',F.col('quantidade_8').cast('int'))"
   ]
  },
  {
   "cell_type": "markdown",
   "metadata": {},
   "source": [
    "<h1> Tabela <b>Espec_Componentes</b> </h1>"
   ]
  },
  {
   "cell_type": "code",
   "execution_count": null,
   "metadata": {},
   "outputs": [],
   "source": [
    "#transformar NA em Null\n",
    "df_espec_componentes_tratado = df_espec_componentes.withColumn('componente_id',F.col('componente_id').cast('string')).withColumn('componente_tipo_id',F.col('componente_tipo_id').cast('string')).withColumn('tipo',F.col('tipo').cast('string')).withColumn('conexao_tipo_id',F.col('conexao_tipo_id').cast('string')).withColumn('forma',F.col('forma').cast('string')).withColumn('tipo_base',F.col('tipo_base').cast('string')).withColumn('distancia_base',F.col('distancia_base').cast('float')).withColumn('compr_padrao_parafuso',F.col('compr_padrao_parafuso').cast('float')).withColumn('larg_padrao_parafuso',F.col('larg_padrao_parafuso').cast('float')).withColumn('sulco',F.when(df_espec_componentes['sulco']==\"Sim\",1).otherwise(0)).withColumn('diametro_base',F.col('diametro_base').cast('float')).withColumn('diametro_borda',F.col('diametro_borda').cast('float')).withColumn('especificidade',F.when(df_espec_componentes['especificidade']==\"Sim\",1).otherwise(0)).withColumn('orientatacao',F.when(df_espec_componentes['orientatacao']==\"Sim\",1).otherwise(0)).withColumn('peso',F.col('peso').cast('float'))\n",
    "df_espec_componentes_tratado = df_espec_componentes_tratado.withColumn('sulco',col('sulco').cast('boolean')).withColumn('especificidade',col('especificidade').cast('boolean')).withColumn('orientatacao',col('orientatacao').cast('boolean'))"
   ]
  },
  {
   "cell_type": "markdown",
   "metadata": {},
   "source": [
    "<h1>Ingestão de Dados</h1>"
   ]
  },
  {
   "cell_type": "code",
   "execution_count": 30,
   "metadata": {},
   "outputs": [],
   "source": [
    "df_espec_componentes_tratado.write.format('jdbc').options(\n",
    "      url='jdbc:mysql://mysqlserver:3306/Yandeh?useTimezone=true&serverTimezone=UTC',\n",
    "      driver='com.mysql.jdbc.Driver',\n",
    "      dbtable='espec_Componente',\n",
    "      user='root',\n",
    "      password='senha!').mode('append').save()"
   ]
  },
  {
   "cell_type": "code",
   "execution_count": 31,
   "metadata": {},
   "outputs": [],
   "source": [
    "df_cotacao_preco_tratado.write.format('jdbc').options(\n",
    "      url='jdbc:mysql://mysqlserver:3306/Yandeh?useTimezone=true&serverTimezone=UTC',\n",
    "      driver='com.mysql.jdbc.Driver',\n",
    "      dbtable='cotacao_Preco',\n",
    "      user='root',\n",
    "      password='senha!').mode('append').save()"
   ]
  },
  {
   "cell_type": "code",
   "execution_count": 32,
   "metadata": {},
   "outputs": [],
   "source": [
    "df_lista_materiais_tratado.write.format('jdbc').options(\n",
    "      url='jdbc:mysql://mysqlserver:3306/Yandeh?useTimezone=true&serverTimezone=UTC',\n",
    "      driver='com.mysql.jdbc.Driver',\n",
    "      dbtable='lista_Material',\n",
    "      user='root',\n",
    "      password='senha!').mode('append').save()"
   ]
  },
  {
   "cell_type": "code",
   "execution_count": null,
   "metadata": {},
   "outputs": [],
   "source": []
  }
 ],
 "metadata": {
  "kernelspec": {
   "display_name": "Python 3",
   "language": "python",
   "name": "python3"
  },
  "language_info": {
   "codemirror_mode": {
    "name": "ipython",
    "version": 3
   },
   "file_extension": ".py",
   "mimetype": "text/x-python",
   "name": "python",
   "nbconvert_exporter": "python",
   "pygments_lexer": "ipython3",
   "version": "3.8.6"
  },
  "widgets": {
   "application/vnd.jupyter.widget-state+json": {
    "state": {},
    "version_major": 2,
    "version_minor": 0
   }
  }
 },
 "nbformat": 4,
 "nbformat_minor": 2
}
